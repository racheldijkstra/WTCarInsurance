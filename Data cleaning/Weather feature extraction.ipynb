{
 "cells": [
  {
   "cell_type": "markdown",
   "id": "d291f453-1f82-493a-8ee9-a0b4f1741d02",
   "metadata": {},
   "source": [
    "# Weather feature extraction"
   ]
  },
  {
   "cell_type": "markdown",
   "id": "e516ccd9-3f20-4a54-8187-246618b772b7",
   "metadata": {},
   "source": [
    "In dit notebook worden er features uit de Weather_Condition kolom gehaald. De manier waarop de kolom nu georganiseerd is maakt het moeilijk om een trend in de verschillende soorten weersverschijnselen te vinden. Om deze reden zullen we elk type weersverschijnsel een eigen kolom geven, en sommige types zullen nog een kolom krijgen met subtypes (zoals 'light rain', 'heavy rain', etc.). "
   ]
  },
  {
   "cell_type": "code",
   "execution_count": 1,
   "id": "a95deaca-90cd-4722-8213-e687bc4188c8",
   "metadata": {},
   "outputs": [],
   "source": [
    "# Import everything for feature extraction and visualisation.\n",
    "import pandas as pd\n",
    "import numpy as np\n",
    "import matplotlib.pyplot as plt"
   ]
  },
  {
   "cell_type": "code",
   "execution_count": 2,
   "id": "3eea54d0-8acb-423a-b32b-82e36057f8f8",
   "metadata": {},
   "outputs": [],
   "source": [
    "# Read the csv file with the data\n",
    "df = pd.read_csv('US_Accidents_June20_wind_corrected.csv')"
   ]
  },
  {
   "cell_type": "code",
   "execution_count": 3,
   "id": "83830de6-050f-4376-8b9e-ce041499109a",
   "metadata": {
    "scrolled": true
   },
   "outputs": [
    {
     "name": "stdout",
     "output_type": "stream",
     "text": [
      "['Light Rain' 'Overcast' 'Mostly Cloudy' 'Rain' 'Light Snow' 'Haze'\n",
      " 'Scattered Clouds' 'Partly Cloudy' 'Clear' 'Snow'\n",
      " 'Light Freezing Drizzle' 'Light Drizzle' 'Fog' 'Shallow Fog' 'Heavy Rain'\n",
      " 'Light Freezing Rain' 'Cloudy' 'Drizzle' nan 'Light Rain Showers' 'Mist'\n",
      " 'Smoke' 'Patches of Fog' 'Light Freezing Fog' 'Light Haze'\n",
      " 'Light Thunderstorms and Rain' 'Thunderstorms and Rain' 'Fair'\n",
      " 'Volcanic Ash' 'Blowing Sand' 'Blowing Dust / Windy' 'Widespread Dust'\n",
      " 'Fair / Windy' 'Rain Showers' 'Mostly Cloudy / Windy'\n",
      " 'Light Rain / Windy' 'Hail' 'Heavy Drizzle' 'Showers in the Vicinity'\n",
      " 'Thunderstorm' 'Light Rain Shower' 'Light Rain with Thunder'\n",
      " 'Partly Cloudy / Windy' 'Thunder in the Vicinity' 'T-Storm'\n",
      " 'Heavy Thunderstorms and Rain' 'Thunder' 'Heavy T-Storm' 'Funnel Cloud'\n",
      " 'Heavy T-Storm / Windy' 'Blowing Snow' 'Light Thunderstorms and Snow'\n",
      " 'Heavy Snow' 'Low Drifting Snow' 'Light Ice Pellets' 'Ice Pellets'\n",
      " 'Squalls' 'N/A Precipitation' 'Cloudy / Windy' 'Light Fog' 'Sand'\n",
      " 'Snow Grains' 'Snow Showers' 'Heavy Thunderstorms and Snow'\n",
      " 'Rain / Windy' 'Heavy Rain / Windy' 'Heavy Ice Pellets'\n",
      " 'Light Snow / Windy' 'Heavy Freezing Rain' 'Small Hail'\n",
      " 'Heavy Rain Showers' 'T-Storm / Windy' 'Patches of Fog / Windy'\n",
      " 'Drizzle / Windy' 'Thunder / Windy' 'Wintry Mix' 'Squalls / Windy'\n",
      " 'Rain Shower' 'Drizzle and Fog' 'Haze / Windy' 'Sand / Dust Whirlwinds'\n",
      " 'Blowing Dust' 'Fog / Windy' 'Smoke / Windy' 'Wintry Mix / Windy'\n",
      " 'Snow / Windy' 'Light Rain Shower / Windy' 'Heavy Snow / Windy'\n",
      " 'Snow and Sleet' 'Light Freezing Rain / Windy' 'Light Drizzle / Windy'\n",
      " 'Light Snow and Sleet' 'Partial Fog' 'Light Snow Shower'\n",
      " 'Light Snow and Sleet / Windy' 'Freezing Rain' 'Blowing Snow / Windy'\n",
      " 'Freezing Drizzle' 'Sleet' 'Light Sleet' 'Rain and Sleet' 'Heavy Sleet'\n",
      " 'Light Snow Grains' 'Partial Fog / Windy' 'Light Snow with Thunder'\n",
      " 'Widespread Dust / Windy' 'Sand / Dust Whirlwinds / Windy' 'Tornado'\n",
      " 'Snow and Thunder' 'Snow and Sleet / Windy' 'Heavy Snow with Thunder'\n",
      " 'Thunder / Wintry Mix / Windy' 'Light Snow Showers' 'Heavy Blowing Snow'\n",
      " 'Light Hail' 'Heavy Smoke' 'Heavy Thunderstorms with Small Hail'\n",
      " 'Light Thunderstorm' 'Heavy Freezing Drizzle' 'Light Blowing Snow'\n",
      " 'Thunderstorms and Snow' 'Freezing Rain / Windy' 'Dust Whirls'\n",
      " 'Sand / Dust Whirls Nearby' 'Heavy Rain Shower' 'Thunder and Hail'\n",
      " 'Drifting Snow' 'Thunder and Hail / Windy']\n"
     ]
    }
   ],
   "source": [
    "# Print all unique values in the Weather_Condition column\n",
    "unique_weather = df['Weather_Condition'].unique()\n",
    "print(unique_weather)"
   ]
  },
  {
   "cell_type": "markdown",
   "id": "99bcd41d-1ebd-4469-8188-d0192a053b36",
   "metadata": {},
   "source": [
    "Zoals je kunt zien zijn er veel unieke waardes, echter er zijn ook veel waardes waar overlap in zit. Zo is er de waarde 'Rain', maar ook 'Rain / Windy'. Deze zouden nu als aparte waardes gezien worden, maar in beide gevallen regent het. Wij denken dus dat het goed is om van de verschillende type weersomstandigheden features te maken, zodat het opsporen van een trend met een specifiek weertype makkelijker wordt."
   ]
  },
  {
   "cell_type": "code",
   "execution_count": 4,
   "id": "d57f2cf6-67f5-4ac0-a35a-2ab24138ee58",
   "metadata": {},
   "outputs": [],
   "source": [
    "# Filter out NaN values\n",
    "unique_weather = unique_weather[np.array([isinstance(item, str) for item in unique_weather])]"
   ]
  },
  {
   "cell_type": "markdown",
   "id": "84b6e16a-d004-41fa-be76-a37ba80a433f",
   "metadata": {},
   "source": [
    "## Exploratie van de values\n",
    "\n",
    "In de volgende sectie worden de verschillende unieke waardes onderzocht. Zo wordt er gekeken welke unieke woorden er in de values voorkomen, en welke woorden hiervan types weer (zoals regen) zijn of woorden om het type weer te beschrijven (zoals *lichte* regen). Aan de hand hiervan bepalen we welke feature kolommen er gemaakt en ingevuld moeten worden."
   ]
  },
  {
   "cell_type": "code",
   "execution_count": 5,
   "id": "6baca1b7-241b-4363-9ee5-28cc8ec7ac41",
   "metadata": {},
   "outputs": [
    {
     "name": "stdout",
     "output_type": "stream",
     "text": [
      "Unique words in Weather_Condition:\n",
      "{'Tornado', 'Freezing', 'Thunderstorm', 'Squalls', 'Rain', 'Funnel', 'Mix', 'Haze', 'Mist', 'with', 'Sleet', 'Patches', 'Overcast', 'Cloudy', 'and', 'Clouds', '/', 'Precipitation', 'Whirls', 'Dust', 'Volcanic', 'Small', 'Thunderstorms', 'Thunder', 'Pellets', 'Sand', 'Drizzle', 'Scattered', 'Blowing', 'Fog', 'Widespread', 'Low', 'Ice', 'Windy', 'Heavy', 'of', 'Mostly', 'Light', 'Partial', 'Cloud', 'Fair', 'in', 'Showers', 'Clear', 'Nearby', 'Shallow', 'Drifting', 'the', 'Hail', 'T-Storm', 'Ash', 'N/A', 'Vicinity', 'Grains', 'Whirlwinds', 'Snow', 'Shower', 'Wintry', 'Partly', 'Smoke'}\n"
     ]
    }
   ],
   "source": [
    "# Make a set of the unique words in the unique values of weather_condition\n",
    "unique_words = set()\n",
    "\n",
    "# Iterate through the rows of the Weather_Condition column and extract unique words\n",
    "for row in df['Weather_Condition']:\n",
    "    if type(row) == str:\n",
    "        words = row.split()  # Split the string into words\n",
    "        unique_words.update(words)  # Add words to the set of unique words\n",
    "\n",
    "# Print unique words\n",
    "print(\"Unique words in Weather_Condition:\")\n",
    "print(unique_words)"
   ]
  },
  {
   "cell_type": "code",
   "execution_count": 6,
   "id": "19b1efdd-bd08-43ce-b3db-d4f0e2a6d847",
   "metadata": {},
   "outputs": [
    {
     "name": "stdout",
     "output_type": "stream",
     "text": [
      "Values containing Tornado: ['Tornado']\n",
      "Values containing Freezing: ['Light Freezing Drizzle', 'Light Freezing Rain', 'Light Freezing Fog', 'Heavy Freezing Rain', 'Light Freezing Rain / Windy', 'Freezing Rain', 'Freezing Drizzle', 'Heavy Freezing Drizzle', 'Freezing Rain / Windy']\n",
      "Values containing Thunderstorm: ['Light Thunderstorms and Rain', 'Thunderstorms and Rain', 'Thunderstorm', 'Heavy Thunderstorms and Rain', 'Light Thunderstorms and Snow', 'Heavy Thunderstorms and Snow', 'Heavy Thunderstorms with Small Hail', 'Light Thunderstorm', 'Thunderstorms and Snow']\n",
      "Values containing Squalls: ['Squalls', 'Squalls / Windy']\n",
      "Values containing Rain: ['Light Rain', 'Rain', 'Heavy Rain', 'Light Freezing Rain', 'Light Rain Showers', 'Light Thunderstorms and Rain', 'Thunderstorms and Rain', 'Rain Showers', 'Light Rain / Windy', 'Light Rain Shower', 'Light Rain with Thunder', 'Heavy Thunderstorms and Rain', 'Rain / Windy', 'Heavy Rain / Windy', 'Heavy Freezing Rain', 'Heavy Rain Showers', 'Rain Shower', 'Light Rain Shower / Windy', 'Light Freezing Rain / Windy', 'Freezing Rain', 'Rain and Sleet', 'Freezing Rain / Windy', 'Heavy Rain Shower']\n",
      "Values containing Funnel: ['Funnel Cloud']\n",
      "Values containing Mix: ['Wintry Mix', 'Wintry Mix / Windy', 'Thunder / Wintry Mix / Windy']\n",
      "Values containing Haze: ['Haze', 'Light Haze', 'Haze / Windy']\n",
      "Values containing Mist: ['Mist']\n",
      "Values containing with: ['Light Rain with Thunder', 'Light Snow with Thunder', 'Heavy Snow with Thunder', 'Heavy Thunderstorms with Small Hail']\n",
      "Values containing Sleet: ['Snow and Sleet', 'Light Snow and Sleet', 'Light Snow and Sleet / Windy', 'Sleet', 'Light Sleet', 'Rain and Sleet', 'Heavy Sleet', 'Snow and Sleet / Windy']\n",
      "Values containing Patches: ['Patches of Fog', 'Patches of Fog / Windy']\n",
      "Values containing Overcast: ['Overcast']\n",
      "Values containing Cloudy: ['Mostly Cloudy', 'Partly Cloudy', 'Cloudy', 'Mostly Cloudy / Windy', 'Partly Cloudy / Windy', 'Cloudy / Windy']\n",
      "Values containing and: ['Light Thunderstorms and Rain', 'Thunderstorms and Rain', 'Blowing Sand', 'Heavy Thunderstorms and Rain', 'Light Thunderstorms and Snow', 'Sand', 'Heavy Thunderstorms and Snow', 'Drizzle and Fog', 'Sand / Dust Whirlwinds', 'Snow and Sleet', 'Light Snow and Sleet', 'Light Snow and Sleet / Windy', 'Rain and Sleet', 'Sand / Dust Whirlwinds / Windy', 'Snow and Thunder', 'Snow and Sleet / Windy', 'Thunderstorms and Snow', 'Sand / Dust Whirls Nearby', 'Thunder and Hail', 'Thunder and Hail / Windy']\n",
      "Values containing Clouds: ['Scattered Clouds']\n",
      "Values containing /: ['Blowing Dust / Windy', 'Fair / Windy', 'Mostly Cloudy / Windy', 'Light Rain / Windy', 'Partly Cloudy / Windy', 'Heavy T-Storm / Windy', 'N/A Precipitation', 'Cloudy / Windy', 'Rain / Windy', 'Heavy Rain / Windy', 'Light Snow / Windy', 'T-Storm / Windy', 'Patches of Fog / Windy', 'Drizzle / Windy', 'Thunder / Windy', 'Squalls / Windy', 'Haze / Windy', 'Sand / Dust Whirlwinds', 'Fog / Windy', 'Smoke / Windy', 'Wintry Mix / Windy', 'Snow / Windy', 'Light Rain Shower / Windy', 'Heavy Snow / Windy', 'Light Freezing Rain / Windy', 'Light Drizzle / Windy', 'Light Snow and Sleet / Windy', 'Blowing Snow / Windy', 'Partial Fog / Windy', 'Widespread Dust / Windy', 'Sand / Dust Whirlwinds / Windy', 'Snow and Sleet / Windy', 'Thunder / Wintry Mix / Windy', 'Freezing Rain / Windy', 'Sand / Dust Whirls Nearby', 'Thunder and Hail / Windy']\n",
      "Values containing Precipitation: ['N/A Precipitation']\n",
      "Values containing Whirls: ['Dust Whirls', 'Sand / Dust Whirls Nearby']\n",
      "Values containing Dust: ['Blowing Dust / Windy', 'Widespread Dust', 'Sand / Dust Whirlwinds', 'Blowing Dust', 'Widespread Dust / Windy', 'Sand / Dust Whirlwinds / Windy', 'Dust Whirls', 'Sand / Dust Whirls Nearby']\n",
      "Values containing Volcanic: ['Volcanic Ash']\n",
      "Values containing Small: ['Small Hail', 'Heavy Thunderstorms with Small Hail']\n",
      "Values containing Thunderstorms: ['Light Thunderstorms and Rain', 'Thunderstorms and Rain', 'Heavy Thunderstorms and Rain', 'Light Thunderstorms and Snow', 'Heavy Thunderstorms and Snow', 'Heavy Thunderstorms with Small Hail', 'Thunderstorms and Snow']\n",
      "Values containing Thunder: ['Light Thunderstorms and Rain', 'Thunderstorms and Rain', 'Thunderstorm', 'Light Rain with Thunder', 'Thunder in the Vicinity', 'Heavy Thunderstorms and Rain', 'Thunder', 'Light Thunderstorms and Snow', 'Heavy Thunderstorms and Snow', 'Thunder / Windy', 'Light Snow with Thunder', 'Snow and Thunder', 'Heavy Snow with Thunder', 'Thunder / Wintry Mix / Windy', 'Heavy Thunderstorms with Small Hail', 'Light Thunderstorm', 'Thunderstorms and Snow', 'Thunder and Hail', 'Thunder and Hail / Windy']\n",
      "Values containing Pellets: ['Light Ice Pellets', 'Ice Pellets', 'Heavy Ice Pellets']\n",
      "Values containing Sand: ['Blowing Sand', 'Sand', 'Sand / Dust Whirlwinds', 'Sand / Dust Whirlwinds / Windy', 'Sand / Dust Whirls Nearby']\n",
      "Values containing Drizzle: ['Light Freezing Drizzle', 'Light Drizzle', 'Drizzle', 'Heavy Drizzle', 'Drizzle / Windy', 'Drizzle and Fog', 'Light Drizzle / Windy', 'Freezing Drizzle', 'Heavy Freezing Drizzle']\n",
      "Values containing Scattered: ['Scattered Clouds']\n",
      "Values containing Blowing: ['Blowing Sand', 'Blowing Dust / Windy', 'Blowing Snow', 'Blowing Dust', 'Blowing Snow / Windy', 'Heavy Blowing Snow', 'Light Blowing Snow']\n",
      "Values containing Fog: ['Fog', 'Shallow Fog', 'Patches of Fog', 'Light Freezing Fog', 'Light Fog', 'Patches of Fog / Windy', 'Drizzle and Fog', 'Fog / Windy', 'Partial Fog', 'Partial Fog / Windy']\n",
      "Values containing Widespread: ['Widespread Dust', 'Widespread Dust / Windy']\n",
      "Values containing Low: ['Low Drifting Snow']\n",
      "Values containing Ice: ['Light Ice Pellets', 'Ice Pellets', 'Heavy Ice Pellets']\n",
      "Values containing Windy: ['Blowing Dust / Windy', 'Fair / Windy', 'Mostly Cloudy / Windy', 'Light Rain / Windy', 'Partly Cloudy / Windy', 'Heavy T-Storm / Windy', 'Cloudy / Windy', 'Rain / Windy', 'Heavy Rain / Windy', 'Light Snow / Windy', 'T-Storm / Windy', 'Patches of Fog / Windy', 'Drizzle / Windy', 'Thunder / Windy', 'Squalls / Windy', 'Haze / Windy', 'Fog / Windy', 'Smoke / Windy', 'Wintry Mix / Windy', 'Snow / Windy', 'Light Rain Shower / Windy', 'Heavy Snow / Windy', 'Light Freezing Rain / Windy', 'Light Drizzle / Windy', 'Light Snow and Sleet / Windy', 'Blowing Snow / Windy', 'Partial Fog / Windy', 'Widespread Dust / Windy', 'Sand / Dust Whirlwinds / Windy', 'Snow and Sleet / Windy', 'Thunder / Wintry Mix / Windy', 'Freezing Rain / Windy', 'Thunder and Hail / Windy']\n",
      "Values containing Heavy: ['Heavy Rain', 'Heavy Drizzle', 'Heavy Thunderstorms and Rain', 'Heavy T-Storm', 'Heavy T-Storm / Windy', 'Heavy Snow', 'Heavy Thunderstorms and Snow', 'Heavy Rain / Windy', 'Heavy Ice Pellets', 'Heavy Freezing Rain', 'Heavy Rain Showers', 'Heavy Snow / Windy', 'Heavy Sleet', 'Heavy Snow with Thunder', 'Heavy Blowing Snow', 'Heavy Smoke', 'Heavy Thunderstorms with Small Hail', 'Heavy Freezing Drizzle', 'Heavy Rain Shower']\n",
      "Values containing of: ['Patches of Fog', 'Patches of Fog / Windy']\n",
      "Values containing Mostly: ['Mostly Cloudy', 'Mostly Cloudy / Windy']\n",
      "Values containing Light: ['Light Rain', 'Light Snow', 'Light Freezing Drizzle', 'Light Drizzle', 'Light Freezing Rain', 'Light Rain Showers', 'Light Freezing Fog', 'Light Haze', 'Light Thunderstorms and Rain', 'Light Rain / Windy', 'Light Rain Shower', 'Light Rain with Thunder', 'Light Thunderstorms and Snow', 'Light Ice Pellets', 'Light Fog', 'Light Snow / Windy', 'Light Rain Shower / Windy', 'Light Freezing Rain / Windy', 'Light Drizzle / Windy', 'Light Snow and Sleet', 'Light Snow Shower', 'Light Snow and Sleet / Windy', 'Light Sleet', 'Light Snow Grains', 'Light Snow with Thunder', 'Light Snow Showers', 'Light Hail', 'Light Thunderstorm', 'Light Blowing Snow']\n",
      "Values containing Partial: ['Partial Fog', 'Partial Fog / Windy']\n",
      "Values containing Cloud: ['Mostly Cloudy', 'Scattered Clouds', 'Partly Cloudy', 'Cloudy', 'Mostly Cloudy / Windy', 'Partly Cloudy / Windy', 'Funnel Cloud', 'Cloudy / Windy']\n",
      "Values containing Fair: ['Fair', 'Fair / Windy']\n",
      "Values containing in: ['Light Rain', 'Rain', 'Light Freezing Drizzle', 'Heavy Rain', 'Light Freezing Rain', 'Light Rain Showers', 'Light Freezing Fog', 'Light Thunderstorms and Rain', 'Thunderstorms and Rain', 'Blowing Sand', 'Blowing Dust / Windy', 'Fair / Windy', 'Rain Showers', 'Mostly Cloudy / Windy', 'Light Rain / Windy', 'Showers in the Vicinity', 'Light Rain Shower', 'Light Rain with Thunder', 'Partly Cloudy / Windy', 'Thunder in the Vicinity', 'Heavy Thunderstorms and Rain', 'Heavy T-Storm / Windy', 'Blowing Snow', 'Low Drifting Snow', 'Cloudy / Windy', 'Snow Grains', 'Rain / Windy', 'Heavy Rain / Windy', 'Light Snow / Windy', 'Heavy Freezing Rain', 'Heavy Rain Showers', 'T-Storm / Windy', 'Patches of Fog / Windy', 'Drizzle / Windy', 'Thunder / Windy', 'Wintry Mix', 'Squalls / Windy', 'Rain Shower', 'Haze / Windy', 'Sand / Dust Whirlwinds', 'Blowing Dust', 'Fog / Windy', 'Smoke / Windy', 'Wintry Mix / Windy', 'Snow / Windy', 'Light Rain Shower / Windy', 'Heavy Snow / Windy', 'Light Freezing Rain / Windy', 'Light Drizzle / Windy', 'Light Snow and Sleet / Windy', 'Freezing Rain', 'Blowing Snow / Windy', 'Freezing Drizzle', 'Rain and Sleet', 'Light Snow Grains', 'Partial Fog / Windy', 'Widespread Dust / Windy', 'Sand / Dust Whirlwinds / Windy', 'Snow and Sleet / Windy', 'Thunder / Wintry Mix / Windy', 'Heavy Blowing Snow', 'Heavy Freezing Drizzle', 'Light Blowing Snow', 'Freezing Rain / Windy', 'Heavy Rain Shower', 'Drifting Snow', 'Thunder and Hail / Windy']\n",
      "Values containing Showers: ['Light Rain Showers', 'Rain Showers', 'Showers in the Vicinity', 'Snow Showers', 'Heavy Rain Showers', 'Light Snow Showers']\n",
      "Values containing Clear: ['Clear']\n",
      "Values containing Nearby: ['Sand / Dust Whirls Nearby']\n",
      "Values containing Shallow: ['Shallow Fog']\n",
      "Values containing Drifting: ['Low Drifting Snow', 'Drifting Snow']\n",
      "Values containing the: ['Showers in the Vicinity', 'Thunder in the Vicinity']\n",
      "Values containing Hail: ['Hail', 'Small Hail', 'Light Hail', 'Heavy Thunderstorms with Small Hail', 'Thunder and Hail', 'Thunder and Hail / Windy']\n",
      "Values containing T-Storm: ['T-Storm', 'Heavy T-Storm', 'Heavy T-Storm / Windy', 'T-Storm / Windy']\n",
      "Values containing Ash: ['Volcanic Ash']\n",
      "Values containing N/A: ['N/A Precipitation']\n",
      "Values containing Vicinity: ['Showers in the Vicinity', 'Thunder in the Vicinity']\n",
      "Values containing Grains: ['Snow Grains', 'Light Snow Grains']\n",
      "Values containing Whirlwinds: ['Sand / Dust Whirlwinds', 'Sand / Dust Whirlwinds / Windy']\n",
      "Values containing Snow: ['Light Snow', 'Snow', 'Blowing Snow', 'Light Thunderstorms and Snow', 'Heavy Snow', 'Low Drifting Snow', 'Snow Grains', 'Snow Showers', 'Heavy Thunderstorms and Snow', 'Light Snow / Windy', 'Snow / Windy', 'Heavy Snow / Windy', 'Snow and Sleet', 'Light Snow and Sleet', 'Light Snow Shower', 'Light Snow and Sleet / Windy', 'Blowing Snow / Windy', 'Light Snow Grains', 'Light Snow with Thunder', 'Snow and Thunder', 'Snow and Sleet / Windy', 'Heavy Snow with Thunder', 'Light Snow Showers', 'Heavy Blowing Snow', 'Light Blowing Snow', 'Thunderstorms and Snow', 'Drifting Snow']\n",
      "Values containing Shower: ['Light Rain Showers', 'Rain Showers', 'Showers in the Vicinity', 'Light Rain Shower', 'Snow Showers', 'Heavy Rain Showers', 'Rain Shower', 'Light Rain Shower / Windy', 'Light Snow Shower', 'Light Snow Showers', 'Heavy Rain Shower']\n",
      "Values containing Wintry: ['Wintry Mix', 'Wintry Mix / Windy', 'Thunder / Wintry Mix / Windy']\n",
      "Values containing Partly: ['Partly Cloudy', 'Partly Cloudy / Windy']\n",
      "Values containing Smoke: ['Smoke', 'Smoke / Windy', 'Heavy Smoke']\n"
     ]
    }
   ],
   "source": [
    "# For each unique word, print in which values it occurs\n",
    "for word in unique_words:\n",
    "    words_with_word = [word2 for word2 in unique_weather if word in word2]\n",
    "    print(f'Values containing {word}: {words_with_word}')  "
   ]
  },
  {
   "cell_type": "markdown",
   "id": "2420dc63-59b6-4d40-9596-5f3a35ba0d09",
   "metadata": {},
   "source": [
    "Hierboven wordt voor ieder uniek woord dat voorkomt in die weather_condition values bekeken in welke unieke values zij voorkomen. Aan de hand daarvan bekijken we of het woord staat voor een type weer, of een beschrijving van het weer. Door dit te bekijken zijn wij tot de conclusie gekomen dat de volgende typen weer voorkomen in de dataset: 'Overcast', 'Volcanic Ash', 'Dust', 'Wintry Mix', 'Fair', 'Clear', 'Hail', 'Thunder', 'Cloud', 'Tornado', 'T-Storm', 'Shower', 'Thunderstorm', 'Mist', 'Snow', 'Smoke', 'Drizzle', 'Haze', 'Windy', 'Squalls', 'Ice', 'Rain', 'Sand', 'Sleet'. Later zullen wij nog bekijken of we een paar van deze typen weer kunnen samenvoegen omdat het erg op elkaar lijkt. "
   ]
  },
  {
   "cell_type": "code",
   "execution_count": 7,
   "id": "8a6bdfcd-89d8-44a7-a594-ec0802467d41",
   "metadata": {},
   "outputs": [],
   "source": [
    "weather_types = ['Overcast', 'Volcanic Ash', 'Dust', 'Wintry Mix', 'Fair', 'Clear', 'Hail', 'Thunder', 'Cloud', 'Tornado', 'T-Storm', 'Shower', 'Thunderstorm', 'Mist', 'Snow', 'Smoke', 'Drizzle', 'Haze', 'Windy', 'Squalls', 'Ice', 'Rain', 'Sand', 'Sleet']"
   ]
  },
  {
   "cell_type": "code",
   "execution_count": 8,
   "id": "6deccc3e-8a5e-4d0c-8e70-8104aa269175",
   "metadata": {},
   "outputs": [
    {
     "name": "stdout",
     "output_type": "stream",
     "text": [
      "Values containing Overcast: ['Overcast']\n",
      "Values containing Volcanic Ash: ['Volcanic Ash']\n",
      "Values containing Dust: ['Blowing Dust / Windy', 'Widespread Dust', 'Sand / Dust Whirlwinds', 'Blowing Dust', 'Widespread Dust / Windy', 'Sand / Dust Whirlwinds / Windy', 'Dust Whirls', 'Sand / Dust Whirls Nearby']\n",
      "Values containing Wintry Mix: ['Wintry Mix', 'Wintry Mix / Windy', 'Thunder / Wintry Mix / Windy']\n",
      "Values containing Fair: ['Fair', 'Fair / Windy']\n",
      "Values containing Clear: ['Clear']\n",
      "Values containing Hail: ['Hail', 'Small Hail', 'Light Hail', 'Heavy Thunderstorms with Small Hail', 'Thunder and Hail', 'Thunder and Hail / Windy']\n",
      "Values containing Thunder: ['Light Thunderstorms and Rain', 'Thunderstorms and Rain', 'Thunderstorm', 'Light Rain with Thunder', 'Thunder in the Vicinity', 'Heavy Thunderstorms and Rain', 'Thunder', 'Light Thunderstorms and Snow', 'Heavy Thunderstorms and Snow', 'Thunder / Windy', 'Light Snow with Thunder', 'Snow and Thunder', 'Heavy Snow with Thunder', 'Thunder / Wintry Mix / Windy', 'Heavy Thunderstorms with Small Hail', 'Light Thunderstorm', 'Thunderstorms and Snow', 'Thunder and Hail', 'Thunder and Hail / Windy']\n",
      "Values containing Cloud: ['Mostly Cloudy', 'Scattered Clouds', 'Partly Cloudy', 'Cloudy', 'Mostly Cloudy / Windy', 'Partly Cloudy / Windy', 'Funnel Cloud', 'Cloudy / Windy']\n",
      "Values containing Tornado: ['Tornado']\n",
      "Values containing T-Storm: ['T-Storm', 'Heavy T-Storm', 'Heavy T-Storm / Windy', 'T-Storm / Windy']\n",
      "Values containing Shower: ['Light Rain Showers', 'Rain Showers', 'Showers in the Vicinity', 'Light Rain Shower', 'Snow Showers', 'Heavy Rain Showers', 'Rain Shower', 'Light Rain Shower / Windy', 'Light Snow Shower', 'Light Snow Showers', 'Heavy Rain Shower']\n",
      "Values containing Thunderstorm: ['Light Thunderstorms and Rain', 'Thunderstorms and Rain', 'Thunderstorm', 'Heavy Thunderstorms and Rain', 'Light Thunderstorms and Snow', 'Heavy Thunderstorms and Snow', 'Heavy Thunderstorms with Small Hail', 'Light Thunderstorm', 'Thunderstorms and Snow']\n",
      "Values containing Mist: ['Mist']\n",
      "Values containing Snow: ['Light Snow', 'Snow', 'Blowing Snow', 'Light Thunderstorms and Snow', 'Heavy Snow', 'Low Drifting Snow', 'Snow Grains', 'Snow Showers', 'Heavy Thunderstorms and Snow', 'Light Snow / Windy', 'Snow / Windy', 'Heavy Snow / Windy', 'Snow and Sleet', 'Light Snow and Sleet', 'Light Snow Shower', 'Light Snow and Sleet / Windy', 'Blowing Snow / Windy', 'Light Snow Grains', 'Light Snow with Thunder', 'Snow and Thunder', 'Snow and Sleet / Windy', 'Heavy Snow with Thunder', 'Light Snow Showers', 'Heavy Blowing Snow', 'Light Blowing Snow', 'Thunderstorms and Snow', 'Drifting Snow']\n",
      "Values containing Smoke: ['Smoke', 'Smoke / Windy', 'Heavy Smoke']\n",
      "Values containing Drizzle: ['Light Freezing Drizzle', 'Light Drizzle', 'Drizzle', 'Heavy Drizzle', 'Drizzle / Windy', 'Drizzle and Fog', 'Light Drizzle / Windy', 'Freezing Drizzle', 'Heavy Freezing Drizzle']\n",
      "Values containing Haze: ['Haze', 'Light Haze', 'Haze / Windy']\n",
      "Values containing Windy: ['Blowing Dust / Windy', 'Fair / Windy', 'Mostly Cloudy / Windy', 'Light Rain / Windy', 'Partly Cloudy / Windy', 'Heavy T-Storm / Windy', 'Cloudy / Windy', 'Rain / Windy', 'Heavy Rain / Windy', 'Light Snow / Windy', 'T-Storm / Windy', 'Patches of Fog / Windy', 'Drizzle / Windy', 'Thunder / Windy', 'Squalls / Windy', 'Haze / Windy', 'Fog / Windy', 'Smoke / Windy', 'Wintry Mix / Windy', 'Snow / Windy', 'Light Rain Shower / Windy', 'Heavy Snow / Windy', 'Light Freezing Rain / Windy', 'Light Drizzle / Windy', 'Light Snow and Sleet / Windy', 'Blowing Snow / Windy', 'Partial Fog / Windy', 'Widespread Dust / Windy', 'Sand / Dust Whirlwinds / Windy', 'Snow and Sleet / Windy', 'Thunder / Wintry Mix / Windy', 'Freezing Rain / Windy', 'Thunder and Hail / Windy']\n",
      "Values containing Squalls: ['Squalls', 'Squalls / Windy']\n",
      "Values containing Ice: ['Light Ice Pellets', 'Ice Pellets', 'Heavy Ice Pellets']\n",
      "Values containing Rain: ['Light Rain', 'Rain', 'Heavy Rain', 'Light Freezing Rain', 'Light Rain Showers', 'Light Thunderstorms and Rain', 'Thunderstorms and Rain', 'Rain Showers', 'Light Rain / Windy', 'Light Rain Shower', 'Light Rain with Thunder', 'Heavy Thunderstorms and Rain', 'Rain / Windy', 'Heavy Rain / Windy', 'Heavy Freezing Rain', 'Heavy Rain Showers', 'Rain Shower', 'Light Rain Shower / Windy', 'Light Freezing Rain / Windy', 'Freezing Rain', 'Rain and Sleet', 'Freezing Rain / Windy', 'Heavy Rain Shower']\n",
      "Values containing Sand: ['Blowing Sand', 'Sand', 'Sand / Dust Whirlwinds', 'Sand / Dust Whirlwinds / Windy', 'Sand / Dust Whirls Nearby']\n",
      "Values containing Sleet: ['Snow and Sleet', 'Light Snow and Sleet', 'Light Snow and Sleet / Windy', 'Sleet', 'Light Sleet', 'Rain and Sleet', 'Heavy Sleet', 'Snow and Sleet / Windy']\n"
     ]
    }
   ],
   "source": [
    "for word in weather_types:\n",
    "    words_with_word = [word2 for word2 in unique_weather if word in word2]\n",
    "    print(f'Values containing {word}: {words_with_word}')  "
   ]
  },
  {
   "cell_type": "markdown",
   "id": "cbcbb060-a2fb-465b-a7ae-5be4333f4a3a",
   "metadata": {},
   "source": [
    "Hier kunnen we zien welke verschillende beschrijvingen er zijn voor de verschillende typen weer. Hierbij rekenen we combinaties zoals 'Light Rain / Windy' voor het type 'Rain' als 'Light Rain', aangezien 'Windy' weer een ander type weer is. \n",
    "- Overcast: 'Overcast'\n",
    "- Volcanic Ash: 'Volcanic Ash'\n",
    "- Dust: 'Blowing Dust', 'Widespread Dust', 'Dust Whirlwinds', 'Dust Whirls', 'Dust Whirls Nearby'\n",
    "- Wintry Mix: 'Wintry Mix'\n",
    "- Fair: 'Fair'\n",
    "- Clear: 'Clear'\n",
    "- Hail: 'Hail', 'Small Hail', 'Light Hail'\n",
    "- Thunder: 'Thunder', 'Thunder in the Vicinity'\n",
    "- Cloud: 'Mostly Cloudy', 'Scattered Clouds', 'Partly Cloudy', 'Cloudy', 'Funnel Cloud'\r",
    "- Tornado: 'Tornado'\n",
    "- T-storm: 'T-Storm', 'Heavy T-Storm'\n",
    "- Shower: 'Showers in the Vicinity' (In de andere gevallen is shower meer een beschrijving)\n",
    "- Thunderstorm: 'Light Thunderstorms', 'Thunderstorms', 'Thunderstorm', 'Heavy Thunderstorms', 'Light Thunderstorm'\n",
    "- Mist: 'Mist'\n",
    "- Snow: 'Light Snow', 'Snow', 'Blowing Snow', 'Heavy Snow', 'Low Drifting Snow', 'Snow Grains', 'Snow Showers', 'Light Snow Shower', 'Light Snow Grains', 'Heavy Blowing Snow', 'Light Blowing Snow', 'Drifting Snow'\n",
    "- Smoke: 'Smoke', 'Heavy Smoke'\n",
    "- Drizzle: 'Light Freezing Drizzle', 'Light Drizzle', 'Drizzle', 'Heavy Drizzle, 'Freezing Drizzle', 'Heavy Freezing Drizzle'\n",
    "- Haze: 'Haze', 'Light Haze'\n",
    "- Windy: 'Windy'\n",
    "- Squalls: 'Squalls'\n",
    "- Ice: 'Light Ice Pellets', 'Ice Pellets', 'Heavy Ice Pellets'\n",
    "- Rain: 'Light Rain', 'Rain', 'Heavy Rain', 'Light Freezing Rain', 'Light Rain Showers', 'Rain Showers', 'Light Rain Shower', 'Heavy Freezing Rain', 'Heavy Rain Showers', 'Rain Shower', 'Light Rain Shower', 'Freezing Rain', 'Heavy Rain Shower'\n",
    "- Sand: 'Blowing Sand', 'Sand'\n",
    "- Sleet: 'Sleet', 'Light Sleet', 'Heavy Sleet'\n",
    "\n",
    "Sommige weersomstandigheden zou je in een zelfde categorie kunnen plaatsen. Zo is er bij 'Cloud' en 'Overcast' beide sprake van wolken in de lucht. Bij 'Fair' en 'Clear' is er beide sprake van relatief goed weer waarbij er geen sprake is van neerslag of bewolking. 'Shower' is een vorm van regen, waardoor het samen met 'Rain' in een categorie geplaatst zou kunnen worden. Deze categoriën worden dan;\n",
    "- Cloudy: 'Overcast', 'Mostly Cloudy', 'Scattered Clouds', 'Partly Cloudy', 'Cloudy', 'Funnel Cloud'\n",
    "- Fair/Clear -> alleen True of False values\n",
    "- Rain: 'Showers in the Vicinity', 'Light Rain', 'Rain', 'Heavy Rain', 'Light Freezing Rain', 'Light Rain Showers', 'Rain Showers', 'Light Rain Shower', 'Heavy Freezing Rain', 'Heavy Rain Showers', 'Rain Shower', 'Light Rain Shower', 'Freezing Rain', 'Heavy Rain Shower'\n",
    "\n",
    "De rest van de categoriën zullen wij voor nu zo laten.]"
   ]
  },
  {
   "cell_type": "code",
   "execution_count": 9,
   "id": "c3c399f3-13d3-4538-9276-94a8668ef8c6",
   "metadata": {},
   "outputs": [],
   "source": [
    "# Make new columns for different weather features\n",
    "new_weather_features = ['Volcanic Ash', 'Dust', 'Wintry Mix', 'Fair/Clear', 'Hail', 'Thunder', 'Cloudy', 'Tornado', 'T-Storm', 'Thunderstorm', 'Mist', 'Snow', 'Smoke', 'Drizzle', 'Haze', 'Windy', 'Squalls', 'Ice Pellets', 'Rain', 'Sand', 'Sleet']\n",
    "for weather_condition in new_weather_features:\n",
    "    df[weather_condition] = np.nan\n",
    "\n",
    "# Make new columns for weather feature types\n",
    "new_weather_feature_types = ['Dust_Type', 'Hail_Type', 'Thunder_Type', 'Cloudy_Type', 'T-Storm_Type', 'Thunderstorm_Type', 'Snow_Type', 'Smoke_Type', 'Drizzle_Type', 'Haze_Type', 'Ice-Pellets_Type', 'Rain_Type', 'Sand_Type', 'Sleet_Type']\n",
    "for weather_type in new_weather_feature_types:\n",
    "    df[weather_type] = np.nan"
   ]
  },
  {
   "cell_type": "code",
   "execution_count": 10,
   "id": "f7b7b0a7-76cb-4b91-98fa-7a433f29a3bc",
   "metadata": {},
   "outputs": [],
   "source": [
    "# function to fill in boolean value of weather feature\n",
    "def add_boolean_weather_row(index, value, weatherString):\n",
    "    if pd.notna(value) and isinstance(value, str) and weatherString in value:\n",
    "        df.at[index, weatherString] = True\n",
    "        return True\n",
    "    elif pd.notna(value) and isinstance(value, str):\n",
    "        df.at[index, weatherString] = False\n",
    "        return False\n",
    "    return None\n",
    "\n",
    "# function to fill in weather type\n",
    "def add_weather_type(index, value, weatherStringArray, weatherType):\n",
    "    for weatherString in weatherStringArray:\n",
    "        if pd.notna(value) and isinstance(value, str) and weatherString in value:\n",
    "            df.at[index, weatherType] = weatherString\n",
    "            break"
   ]
  },
  {
   "cell_type": "markdown",
   "id": "ea1705ba-415f-4d7c-913c-c58fc09b286d",
   "metadata": {},
   "source": [
    "Nu we de nieuwe kolommen gemaakt hebben en de functies gedeclareerd hebben, kunnen we de kolommen gaan invullen. De samengevoegde kolommen hebben een aangepaste aanpak nodig. De rest van de kolommen zullen volgens een forloop door middel van de gedeclareerde functies ingevuld worden."
   ]
  },
  {
   "cell_type": "code",
   "execution_count": 11,
   "id": "5ef23491-7d23-41c0-aff7-2401e7ac5ee9",
   "metadata": {},
   "outputs": [
    {
     "name": "stderr",
     "output_type": "stream",
     "text": [
      "C:\\Users\\rache\\AppData\\Local\\Temp\\ipykernel_21824\\3516974852.py:9: FutureWarning: Setting an item of incompatible dtype is deprecated and will raise in a future error of pandas. Value 'False' has dtype incompatible with float64, please explicitly cast to a compatible dtype first.\n",
      "  df.at[index, 'Cloudy'] = False\n",
      "C:\\Users\\rache\\AppData\\Local\\Temp\\ipykernel_21824\\3516974852.py:10: FutureWarning: Setting an item of incompatible dtype is deprecated and will raise in a future error of pandas. Value 'None' has dtype incompatible with float64, please explicitly cast to a compatible dtype first.\n",
      "  df.at[index, 'Cloudy_Type'] = 'None'\n",
      "C:\\Users\\rache\\AppData\\Local\\Temp\\ipykernel_21824\\3516974852.py:14: FutureWarning: Setting an item of incompatible dtype is deprecated and will raise in a future error of pandas. Value 'True' has dtype incompatible with float64, please explicitly cast to a compatible dtype first.\n",
      "  df.at[index, 'Rain'] = True\n",
      "C:\\Users\\rache\\AppData\\Local\\Temp\\ipykernel_21824\\1256924442.py:15: FutureWarning: Setting an item of incompatible dtype is deprecated and will raise in a future error of pandas. Value 'Light Rain' has dtype incompatible with float64, please explicitly cast to a compatible dtype first.\n",
      "  df.at[index, weatherType] = weatherString\n",
      "C:\\Users\\rache\\AppData\\Local\\Temp\\ipykernel_21824\\3516974852.py:24: FutureWarning: Setting an item of incompatible dtype is deprecated and will raise in a future error of pandas. Value 'False' has dtype incompatible with float64, please explicitly cast to a compatible dtype first.\n",
      "  df.at[index, 'Fair/Clear'] = False\n",
      "C:\\Users\\rache\\AppData\\Local\\Temp\\ipykernel_21824\\1256924442.py:7: FutureWarning: Setting an item of incompatible dtype is deprecated and will raise in a future error of pandas. Value 'False' has dtype incompatible with float64, please explicitly cast to a compatible dtype first.\n",
      "  df.at[index, weatherString] = False\n",
      "C:\\Users\\rache\\AppData\\Local\\Temp\\ipykernel_21824\\3516974852.py:36: FutureWarning: Setting an item of incompatible dtype is deprecated and will raise in a future error of pandas. Value 'None' has dtype incompatible with float64, please explicitly cast to a compatible dtype first.\n",
      "  df.at[index, weather_features_wtype_tname[i]] = 'None'\n"
     ]
    }
   ],
   "source": [
    "# for each row, fill in boolean weather feature columns and weather type (str) columns\n",
    "for index, row in df.iterrows():\n",
    "    value = row['Weather_Condition']\n",
    "    # handle 'Cloudy' column and include 'Overcast'\n",
    "    if pd.notna(value) and isinstance(value, str) and ('Overcast' in value or 'Cloud' in value):\n",
    "        df.at[index, 'Cloudy'] = True\n",
    "        add_weather_type(index, value, ['Overcast', 'Mostly Cloudy', 'Scattered Clouds', 'Partly Cloudy', 'Funnel Cloud', 'Cloudy'], 'Cloudy_Type')\n",
    "    elif pd.notna(value) and isinstance(value, str):\n",
    "        df.at[index, 'Cloudy'] = False\n",
    "        df.at[index, 'Cloudy_Type'] = 'None'\n",
    "\n",
    "    # handle 'Rain' column and include 'Showers in the Vicinity'\n",
    "    if pd.notna(value) and isinstance(value, str) and ('Showers in the Vicinity' in value or 'Rain' in value):\n",
    "        df.at[index, 'Rain'] = True\n",
    "        add_weather_type(index, value, ['Showers in the Vicinity', 'Heavy Freezing Rain', 'Light Freezing Rain', 'Heavy Rain Showers', 'Light Rain Showers', 'Heavy Rain Shower', 'Light Rain Shower', 'Light Rain', 'Heavy Rain', 'Rain Showers', 'Rain Shower', 'Freezing Rain', 'Rain'], 'Rain_Type')\n",
    "    elif pd.notna(value) and isinstance(value, str):\n",
    "        df.at[index, 'Rain'] = False\n",
    "        df.at[index, 'Rain_Type'] = 'None'\n",
    "\n",
    "    # handle 'Fair/Clear' column and combine 'Fair' and 'Clear' values\n",
    "    if pd.notna(value) and isinstance(value, str) and ('Clear' in value or 'Fair' in value):\n",
    "        df.at[index, 'Fair/Clear'] = True\n",
    "    elif pd.notna(value) and isinstance(value, str):\n",
    "        df.at[index, 'Fair/Clear'] = False\n",
    "\n",
    "    # handle all remaining weather feature columns which have different weather types, and handle their type columns\n",
    "    weather_features_wtype = ['Dust', 'Hail', 'Thunder', 'T-Storm', 'Thunderstorm', 'Snow', 'Smoke', 'Drizzle', 'Haze', 'Ice Pellets', 'Sand', 'Sleet']\n",
    "    weather_features_wtype_types = [['Dust Whirls Nearby', 'Blowing Dust', 'Widespread Dust', 'Dust Whirlwinds', 'Dust Whirls'], ['Small Hail', 'Light Hail', 'Hail'], ['Thunder in the Vicinity', 'Thunder'], ['Heavy T-Storm', 'T-Storm'], ['Light Thunderstorms', 'Light Thunderstorm', 'Heavy Thunderstorms', 'Thunderstorms', 'Thunderstorm'], ['Low Drifting Snow', 'Light Snow Shower', 'Light Snow Grains', 'Heavy Blowing Snow', 'Light Blowing Snow', 'Snow Grains', 'Heavy Snow', 'Light Snow', 'Blowing Snow', 'Snow Showers', 'Drifting Snow', 'Snow'], ['Heavy Smoke', 'Smoke'], ['Light Freezing Drizzle', 'Heavy Freezing Drizzle', 'Light Drizzle', 'Heavy Drizzle', 'Freezing Drizzle', 'Drizzle'], ['Light Haze', 'Haze'], ['Light Ice Pellets', 'Heavy Ice Pellets', 'Ice Pellets'], ['Blowing Sand', 'Sand'], ['Light Sleet', 'Heavy Sleet', 'Sleet']]\n",
    "    weather_features_wtype_tname = ['Dust_Type', 'Hail_Type', 'Thunder_Type', 'T-Storm_Type', 'Thunderstorm_Type', 'Snow_Type', 'Smoke_Type', 'Drizzle_Type', 'Haze_Type', 'Ice-Pellets_Type', 'Sand_Type', 'Sleet_Type']\n",
    "\n",
    "    for i, condition in enumerate(weather_features_wtype):\n",
    "        wbool = add_boolean_weather_row(index, value, condition)\n",
    "        if wbool:\n",
    "            add_weather_type(index, value, weather_features_wtype_types[i], weather_features_wtype_tname[i])\n",
    "        elif wbool == False:\n",
    "            df.at[index, weather_features_wtype_tname[i]] = 'None'\n",
    "\n",
    "    # handle all remaining weather feature columns which only have boolean values\n",
    "    weather_features_withoutt = ['Volcanic Ash', 'Wintry Mix', 'Tornado', 'Mist', 'Windy', 'Squalls']\n",
    "\n",
    "    for condition in weather_features_withoutt:\n",
    "        add_boolean_weather_row(index, value, condition)      "
   ]
  },
  {
   "cell_type": "markdown",
   "id": "7fc81c97-1c23-4dba-bbbf-d1a7c70eb1ca",
   "metadata": {},
   "source": [
    "Nu alle kolommen ingevuld zijn, doen we nog een laatste check om te controlleren of er nu logische waardes in de nieuwe kolommen staan. Dit doen we door middel van het uitprinten van de value counts voor elke kolom, en door te kijken naar het aantal NaN values in elke kolom. Als het goed is zou elke kolom 76138 waardes moeten missen, aangezien de Weather_Conditions kolom ook zoveel waardes mist. Verder zullen we voor elke weather type kolom controlleren of elke unieke waarde die we eerder hebben gezien ook daadwerkelijk minstens 1 keer voorkomt."
   ]
  },
  {
   "cell_type": "code",
   "execution_count": 12,
   "id": "96a08d1c-9455-444a-b62b-89944caf1e4a",
   "metadata": {},
   "outputs": [
    {
     "name": "stdout",
     "output_type": "stream",
     "text": [
      "Number of occurrences of False in Volcanic Ash: 3437457\n",
      "Number of occurrences of True in Volcanic Ash: 22\n",
      "Total NaN: 76138\n",
      "Number of occurrences of False in Dust: 3437107\n",
      "Number of occurrences of True in Dust: 372\n",
      "Total NaN: 76138\n",
      "Number of occurrences of False in Wintry Mix: 3435757\n",
      "Number of occurrences of True in Wintry Mix: 1722\n",
      "Total NaN: 76138\n",
      "Number of occurrences of False in Fair/Clear: 2073602\n",
      "Number of occurrences of True in Fair/Clear: 1363877\n",
      "Total NaN: 76138\n",
      "Number of occurrences of False in Hail: 3437435\n",
      "Number of occurrences of True in Hail: 44\n",
      "Total NaN: 76138\n",
      "Number of occurrences of False in Thunder: 3414854\n",
      "Number of occurrences of True in Thunder: 22625\n",
      "Total NaN: 76138\n",
      "Number of occurrences of False in Cloudy: 1792909\n",
      "Number of occurrences of True in Cloudy: 1644570\n",
      "Total NaN: 76138\n",
      "Number of occurrences of False in Tornado: 3437476\n",
      "Number of occurrences of True in Tornado: 3\n",
      "Total NaN: 76138\n",
      "Number of occurrences of False in T-Storm: 3431184\n",
      "Number of occurrences of True in T-Storm: 6295\n",
      "Total NaN: 76138\n",
      "Number of occurrences of False in Thunderstorm: 3423372\n",
      "Number of occurrences of True in Thunderstorm: 14107\n",
      "Total NaN: 76138\n",
      "Number of occurrences of False in Mist: 3435142\n",
      "Number of occurrences of True in Mist: 2337\n",
      "Total NaN: 76138\n",
      "Number of occurrences of False in Snow: 3377985\n",
      "Number of occurrences of True in Snow: 59494\n",
      "Total NaN: 76138\n",
      "Number of occurrences of False in Smoke: 3433796\n",
      "Number of occurrences of True in Smoke: 3683\n",
      "Total NaN: 76138\n",
      "Number of occurrences of False in Drizzle: 3421211\n",
      "Number of occurrences of True in Drizzle: 16268\n",
      "Total NaN: 76138\n",
      "Number of occurrences of False in Haze: 3398589\n",
      "Number of occurrences of True in Haze: 38890\n",
      "Total NaN: 76138\n",
      "Number of occurrences of False in Windy: 3412460\n",
      "Number of occurrences of True in Windy: 25019\n",
      "Total NaN: 76138\n",
      "Number of occurrences of False in Squalls: 3437442\n",
      "Number of occurrences of True in Squalls: 37\n",
      "Total NaN: 76138\n",
      "Number of occurrences of False in Ice Pellets: 3437113\n",
      "Number of occurrences of True in Ice Pellets: 366\n",
      "Total NaN: 76138\n",
      "Number of occurrences of True in Rain: 253072\n",
      "Number of occurrences of False in Rain: 3184407\n",
      "Total NaN: 76138\n",
      "Number of occurrences of False in Sand: 3437427\n",
      "Number of occurrences of True in Sand: 52\n",
      "Total NaN: 76138\n",
      "Number of occurrences of False in Sleet: 3437395\n",
      "Number of occurrences of True in Sleet: 84\n",
      "Total NaN: 76138\n"
     ]
    }
   ],
   "source": [
    "# Print value counts of each (boolean) value of the weather feature columns, and check if all non-NaN values have been added to the columns\n",
    "columns = ['Volcanic Ash', 'Dust', 'Wintry Mix', 'Fair/Clear', 'Hail', 'Thunder', 'Cloudy', 'Tornado', 'T-Storm', 'Thunderstorm', 'Mist', 'Snow', 'Smoke', 'Drizzle', 'Haze', 'Windy', 'Squalls', 'Ice Pellets', 'Rain', 'Sand', 'Sleet']\n",
    "for column in columns:\n",
    "    unique_values = df[column].unique()\n",
    "    unique_values = [value for value in unique_values if value is not None and not pd.isna(value)]\n",
    "    for value in unique_values:\n",
    "        print(f\"Number of occurrences of {value} in {column}: {df[column].value_counts()[value]}\")\n",
    "    print(f\"Total NaN: {df[column].isnull().sum()}\")"
   ]
  },
  {
   "cell_type": "code",
   "execution_count": 13,
   "id": "85cd3ebd-8d23-4225-b7d7-e9caa007272b",
   "metadata": {},
   "outputs": [
    {
     "name": "stdout",
     "output_type": "stream",
     "text": [
      "Number of occurrences of None in Dust_Type: 3437107\n",
      "Number of occurrences of Blowing Dust in Dust_Type: 190\n",
      "Number of occurrences of Widespread Dust in Dust_Type: 149\n",
      "Number of occurrences of Dust Whirlwinds in Dust_Type: 31\n",
      "Number of occurrences of Dust Whirls in Dust_Type: 1\n",
      "Number of occurrences of Dust Whirls Nearby in Dust_Type: 1\n",
      "Total NaN: 76138\n",
      "Number of occurrences of None in Hail_Type: 3437435\n",
      "Number of occurrences of Hail in Hail_Type: 4\n",
      "Number of occurrences of Small Hail in Hail_Type: 37\n",
      "Number of occurrences of Light Hail in Hail_Type: 3\n",
      "Total NaN: 76138\n",
      "Number of occurrences of None in Thunder_Type: 3414854\n",
      "Number of occurrences of Thunder in Thunder_Type: 19597\n",
      "Number of occurrences of Thunder in the Vicinity in Thunder_Type: 3028\n",
      "Total NaN: 76138\n",
      "Number of occurrences of None in Cloudy_Type: 1792909\n",
      "Number of occurrences of Overcast in Cloudy_Type: 382485\n",
      "Number of occurrences of Mostly Cloudy in Cloudy_Type: 492532\n",
      "Number of occurrences of Scattered Clouds in Cloudy_Type: 204660\n",
      "Number of occurrences of Partly Cloudy in Cloudy_Type: 347660\n",
      "Number of occurrences of Cloudy in Cloudy_Type: 217214\n",
      "Number of occurrences of Funnel Cloud in Cloudy_Type: 19\n",
      "Total NaN: 76138\n",
      "Number of occurrences of None in T-Storm_Type: 3431184\n",
      "Number of occurrences of T-Storm in T-Storm_Type: 3925\n",
      "Number of occurrences of Heavy T-Storm in T-Storm_Type: 2370\n",
      "Total NaN: 76138\n",
      "Number of occurrences of None in Thunderstorm_Type: 3423372\n",
      "Number of occurrences of Light Thunderstorms in Thunderstorm_Type: 4950\n",
      "Number of occurrences of Thunderstorms in Thunderstorm_Type: 2218\n",
      "Number of occurrences of Thunderstorm in Thunderstorm_Type: 4440\n",
      "Number of occurrences of Heavy Thunderstorms in Thunderstorm_Type: 2496\n",
      "Number of occurrences of Light Thunderstorm in Thunderstorm_Type: 3\n",
      "Total NaN: 76138\n",
      "Number of occurrences of None in Snow_Type: 3377985\n",
      "Number of occurrences of Light Snow in Snow_Type: 51484\n",
      "Number of occurrences of Snow in Snow_Type: 5983\n",
      "Number of occurrences of Blowing Snow in Snow_Type: 399\n",
      "Number of occurrences of Heavy Snow in Snow_Type: 1574\n",
      "Number of occurrences of Low Drifting Snow in Snow_Type: 5\n",
      "Number of occurrences of Snow Grains in Snow_Type: 4\n",
      "Number of occurrences of Snow Showers in Snow_Type: 2\n",
      "Number of occurrences of Light Snow Shower in Snow_Type: 29\n",
      "Number of occurrences of Light Snow Grains in Snow_Type: 6\n",
      "Number of occurrences of Heavy Blowing Snow in Snow_Type: 4\n",
      "Number of occurrences of Light Blowing Snow in Snow_Type: 3\n",
      "Number of occurrences of Drifting Snow in Snow_Type: 1\n",
      "Total NaN: 76138\n",
      "Number of occurrences of None in Smoke_Type: 3433796\n",
      "Number of occurrences of Smoke in Smoke_Type: 3682\n",
      "Number of occurrences of Heavy Smoke in Smoke_Type: 1\n",
      "Total NaN: 76138\n",
      "Number of occurrences of None in Drizzle_Type: 3421211\n",
      "Number of occurrences of Light Freezing Drizzle in Drizzle_Type: 840\n",
      "Number of occurrences of Light Drizzle in Drizzle_Type: 12493\n",
      "Number of occurrences of Drizzle in Drizzle_Type: 2653\n",
      "Number of occurrences of Heavy Drizzle in Drizzle_Type: 279\n",
      "Number of occurrences of Freezing Drizzle in Drizzle_Type: 1\n",
      "Number of occurrences of Heavy Freezing Drizzle in Drizzle_Type: 2\n",
      "Total NaN: 76138\n",
      "Number of occurrences of None in Haze_Type: 3398589\n",
      "Number of occurrences of Haze in Haze_Type: 38880\n",
      "Number of occurrences of Light Haze in Haze_Type: 10\n",
      "Total NaN: 76138\n",
      "Number of occurrences of None in Ice-Pellets_Type: 3437113\n",
      "Number of occurrences of Light Ice Pellets in Ice-Pellets_Type: 261\n",
      "Number of occurrences of Ice Pellets in Ice-Pellets_Type: 101\n",
      "Number of occurrences of Heavy Ice Pellets in Ice-Pellets_Type: 4\n",
      "Total NaN: 76138\n",
      "Number of occurrences of Light Rain in Rain_Type: 182106\n",
      "Number of occurrences of None in Rain_Type: 3184407\n",
      "Number of occurrences of Rain in Rain_Type: 52215\n",
      "Number of occurrences of Heavy Rain in Rain_Type: 15656\n",
      "Number of occurrences of Light Freezing Rain in Rain_Type: 2201\n",
      "Number of occurrences of Light Rain Showers in Rain_Type: 157\n",
      "Number of occurrences of Rain Showers in Rain_Type: 123\n",
      "Number of occurrences of Showers in the Vicinity in Rain_Type: 416\n",
      "Number of occurrences of Light Rain Shower in Rain_Type: 145\n",
      "Number of occurrences of Heavy Freezing Rain in Rain_Type: 2\n",
      "Number of occurrences of Heavy Rain Showers in Rain_Type: 7\n",
      "Number of occurrences of Rain Shower in Rain_Type: 20\n",
      "Number of occurrences of Freezing Rain in Rain_Type: 21\n",
      "Number of occurrences of Heavy Rain Shower in Rain_Type: 3\n",
      "Total NaN: 76138\n",
      "Number of occurrences of None in Sand_Type: 3437427\n",
      "Number of occurrences of Blowing Sand in Sand_Type: 1\n",
      "Number of occurrences of Sand in Sand_Type: 51\n",
      "Total NaN: 76138\n",
      "Number of occurrences of None in Sleet_Type: 3437395\n",
      "Number of occurrences of Sleet in Sleet_Type: 59\n",
      "Number of occurrences of Light Sleet in Sleet_Type: 19\n",
      "Number of occurrences of Heavy Sleet in Sleet_Type: 6\n",
      "Total NaN: 76138\n"
     ]
    }
   ],
   "source": [
    "# Print value counts of each weather type value of the weather type columns, and check if all non-NaN values have been added to the columns\n",
    "columns = ['Dust_Type', 'Hail_Type', 'Thunder_Type', 'Cloudy_Type', 'T-Storm_Type', 'Thunderstorm_Type', 'Snow_Type', 'Smoke_Type', 'Drizzle_Type', 'Haze_Type', 'Ice-Pellets_Type', 'Rain_Type', 'Sand_Type', 'Sleet_Type']\n",
    "for column in columns:\n",
    "    unique_values = df[column].unique()\n",
    "    unique_values = [value for value in unique_values if value is not None and not pd.isna(value)]\n",
    "    for value in unique_values:\n",
    "        print(f\"Number of occurrences of {value} in {column}: {df[column].value_counts()[value]}\")\n",
    "    print(f\"Total NaN: {df[column].isnull().sum()}\")"
   ]
  },
  {
   "cell_type": "markdown",
   "id": "49ba12e7-1355-47ef-ac62-21375183c725",
   "metadata": {},
   "source": [
    "Nu we hebben gezien dat alle 'Weather_Condition' waardes in de verschillende kolommen verwerkt zijn, kunnen we de getransformeerde dataframe opslaan in een nieuwe csv file."
   ]
  },
  {
   "cell_type": "code",
   "execution_count": 14,
   "id": "999f497d-1465-43a2-a180-d111bdb86e92",
   "metadata": {},
   "outputs": [],
   "source": [
    "df.to_csv('US_Accidents_June20_weather_corrected.csv', index=False)"
   ]
  }
 ],
 "metadata": {
  "kernelspec": {
   "display_name": "Python 3 (ipykernel)",
   "language": "python",
   "name": "python3"
  },
  "language_info": {
   "codemirror_mode": {
    "name": "ipython",
    "version": 3
   },
   "file_extension": ".py",
   "mimetype": "text/x-python",
   "name": "python",
   "nbconvert_exporter": "python",
   "pygments_lexer": "ipython3",
   "version": "3.11.5"
  }
 },
 "nbformat": 4,
 "nbformat_minor": 5
}
