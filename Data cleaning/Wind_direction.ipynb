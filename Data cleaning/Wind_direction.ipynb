{
 "cells": [
  {
   "cell_type": "markdown",
   "id": "bb9c85d9-ad32-4eca-8694-637656132a91",
   "metadata": {},
   "source": [
    "# Wind_Direction kolom correctie"
   ]
  },
  {
   "cell_type": "markdown",
   "id": "c369affe-9c77-4b4d-8b40-699a3331567e",
   "metadata": {},
   "source": [
    "In deze notebook worden duplicates binnen de Wind_Direction kolom gecorrigeerd."
   ]
  },
  {
   "cell_type": "code",
   "execution_count": 6,
   "id": "4021d682-1974-4bb7-9885-2b4278c6a783",
   "metadata": {},
   "outputs": [],
   "source": [
    "# Make all imports for correction of column\n",
    "import pandas as pd\n",
    "import numpy as np"
   ]
  },
  {
   "cell_type": "code",
   "execution_count": 7,
   "id": "21ba7a48-9924-4008-beb8-58e439564b6c",
   "metadata": {},
   "outputs": [],
   "source": [
    "# Read csv file into dataframe\n",
    "df = pd.read_csv('US_Accidents_June20.csv')"
   ]
  },
  {
   "cell_type": "code",
   "execution_count": 8,
   "id": "20d5822e-207c-458f-8005-87156eb18679",
   "metadata": {},
   "outputs": [
    {
     "name": "stdout",
     "output_type": "stream",
     "text": [
      "['Calm' 'SW' 'SSW' 'WSW' 'WNW' 'NW' 'West' 'NNW' 'NNE' 'South' 'North'\n",
      " 'Variable' 'SE' 'SSE' 'ESE' 'East' 'NE' 'ENE' 'E' 'W' nan 'S' 'VAR'\n",
      " 'CALM' 'N']\n"
     ]
    }
   ],
   "source": [
    "# Print all unique wind direction values\n",
    "unique_wind_direction = df['Wind_Direction'].unique()\n",
    "print(unique_wind_direction)"
   ]
  },
  {
   "cell_type": "markdown",
   "id": "6bd455d3-8ec1-4905-9f78-3197d5dfb211",
   "metadata": {},
   "source": [
    "We kunnen hier zien dat er waardes als 'North', maar ook 'N' bestaan, die in essentie dezelfde richting aanwijzen. De volgende waardes zullen tot 1 waarde gemaakt moeten worden\n",
    "- 'Calm' en 'CALM'\n",
    "- 'West' en 'W'\n",
    "- 'South' en 'S'\n",
    "- 'North' en 'N'\n",
    "- 'Variable' en 'VAR'\n",
    "- 'East' en 'E'\n",
    "\n",
    "Aangezien de andere unieke waardes genoteerd zijn als afkortingen, zullen we voor de consistentie ook de afgekorte versies genoteerd in hoofdletters van de bovengenoemde paren gebruiken. "
   ]
  },
  {
   "cell_type": "code",
   "execution_count": 9,
   "id": "9e09cf84-d719-4c8c-83ba-f0937e5b0764",
   "metadata": {},
   "outputs": [],
   "source": [
    "# Change duplicate values\n",
    "for index, row in enumerate(df['Wind_Direction']):\n",
    "    if row == 'Calm':\n",
    "        df.at[index, 'Wind_Direction'] = 'CALM'\n",
    "    elif row == 'West':\n",
    "        df.at[index, 'Wind_Direction'] = 'W'\n",
    "    elif row == 'South':\n",
    "        df.at[index, 'Wind_Direction'] = 'S'\n",
    "    elif row == 'North':\n",
    "        df.at[index, 'Wind_Direction'] = 'N'\n",
    "    elif row == 'Variable':\n",
    "        df.at[index, 'Wind_Direction'] = 'VAR'\n",
    "    elif row == 'East':\n",
    "        df.at[index, 'Wind_Direction'] = 'E'"
   ]
  },
  {
   "cell_type": "code",
   "execution_count": 10,
   "id": "39c2fab0-7e4d-45c8-b4f5-489394da8090",
   "metadata": {},
   "outputs": [
    {
     "name": "stdout",
     "output_type": "stream",
     "text": [
      "['CALM' 'SW' 'SSW' 'WSW' 'WNW' 'NW' 'W' 'NNW' 'NNE' 'S' 'N' 'VAR' 'SE'\n",
      " 'SSE' 'ESE' 'E' 'NE' 'ENE' nan]\n"
     ]
    }
   ],
   "source": [
    "# Print all unique wind direction values\n",
    "unique_wind_direction = df['Wind_Direction'].unique()\n",
    "print(unique_wind_direction)"
   ]
  },
  {
   "cell_type": "markdown",
   "id": "1b27142a-8ea9-4759-8d71-dc2c239cc686",
   "metadata": {},
   "source": [
    "We kunnen zien dat de duplicate waardes nu uit de dataframe gehaald zijn. De dataframe is nu klaar om opgeslagen te worden naar een csv file."
   ]
  },
  {
   "cell_type": "code",
   "execution_count": 11,
   "id": "82eab42f-044e-4c9b-a2c1-9421c4b63d1d",
   "metadata": {},
   "outputs": [],
   "source": [
    "df.to_csv('US_Accidents_June20_wind_corrected.csv', index=False)"
   ]
  }
 ],
 "metadata": {
  "kernelspec": {
   "display_name": "Python 3 (ipykernel)",
   "language": "python",
   "name": "python3"
  },
  "language_info": {
   "codemirror_mode": {
    "name": "ipython",
    "version": 3
   },
   "file_extension": ".py",
   "mimetype": "text/x-python",
   "name": "python",
   "nbconvert_exporter": "python",
   "pygments_lexer": "ipython3",
   "version": "3.11.5"
  }
 },
 "nbformat": 4,
 "nbformat_minor": 5
}
